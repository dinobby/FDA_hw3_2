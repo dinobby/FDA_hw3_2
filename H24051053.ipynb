{
 "cells": [
  {
   "cell_type": "code",
   "execution_count": 1,
   "metadata": {},
   "outputs": [],
   "source": [
    "import numpy as np\n",
    "import pandas as pd\n",
    "import seaborn as sns\n",
    "import matplotlib.pyplot as plt"
   ]
  },
  {
   "cell_type": "markdown",
   "metadata": {},
   "source": [
    "# Data Exploration"
   ]
  },
  {
   "cell_type": "code",
   "execution_count": 2,
   "metadata": {},
   "outputs": [
    {
     "data": {
      "text/html": [
       "<div>\n",
       "<style scoped>\n",
       "    .dataframe tbody tr th:only-of-type {\n",
       "        vertical-align: middle;\n",
       "    }\n",
       "\n",
       "    .dataframe tbody tr th {\n",
       "        vertical-align: top;\n",
       "    }\n",
       "\n",
       "    .dataframe thead th {\n",
       "        text-align: right;\n",
       "    }\n",
       "</style>\n",
       "<table border=\"1\" class=\"dataframe\">\n",
       "  <thead>\n",
       "    <tr style=\"text-align: right;\">\n",
       "      <th></th>\n",
       "      <th>drugName</th>\n",
       "      <th>condition</th>\n",
       "      <th>review</th>\n",
       "      <th>rating</th>\n",
       "      <th>date</th>\n",
       "      <th>usefulCount</th>\n",
       "    </tr>\n",
       "  </thead>\n",
       "  <tbody>\n",
       "    <tr>\n",
       "      <td>206461</td>\n",
       "      <td>Valsartan</td>\n",
       "      <td>Left Ventricular Dysfunction</td>\n",
       "      <td>\"It has no side effect, I take it in combinati...</td>\n",
       "      <td>9.0</td>\n",
       "      <td>May 20, 2012</td>\n",
       "      <td>27</td>\n",
       "    </tr>\n",
       "    <tr>\n",
       "      <td>95260</td>\n",
       "      <td>Guanfacine</td>\n",
       "      <td>ADHD</td>\n",
       "      <td>\"My son is halfway through his fourth week of ...</td>\n",
       "      <td>8.0</td>\n",
       "      <td>April 27, 2010</td>\n",
       "      <td>192</td>\n",
       "    </tr>\n",
       "    <tr>\n",
       "      <td>92703</td>\n",
       "      <td>Lybrel</td>\n",
       "      <td>Birth Control</td>\n",
       "      <td>\"I used to take another oral contraceptive, wh...</td>\n",
       "      <td>5.0</td>\n",
       "      <td>December 14, 2009</td>\n",
       "      <td>17</td>\n",
       "    </tr>\n",
       "    <tr>\n",
       "      <td>138000</td>\n",
       "      <td>Ortho Evra</td>\n",
       "      <td>Birth Control</td>\n",
       "      <td>\"This is my first time using any form of birth...</td>\n",
       "      <td>8.0</td>\n",
       "      <td>November 3, 2015</td>\n",
       "      <td>10</td>\n",
       "    </tr>\n",
       "    <tr>\n",
       "      <td>35696</td>\n",
       "      <td>Buprenorphine / naloxone</td>\n",
       "      <td>Opiate Dependence</td>\n",
       "      <td>\"Suboxone has completely turned my life around...</td>\n",
       "      <td>9.0</td>\n",
       "      <td>November 27, 2016</td>\n",
       "      <td>37</td>\n",
       "    </tr>\n",
       "  </tbody>\n",
       "</table>\n",
       "</div>"
      ],
      "text/plain": [
       "                        drugName                     condition  \\\n",
       "206461                 Valsartan  Left Ventricular Dysfunction   \n",
       "95260                 Guanfacine                          ADHD   \n",
       "92703                     Lybrel                 Birth Control   \n",
       "138000                Ortho Evra                 Birth Control   \n",
       "35696   Buprenorphine / naloxone             Opiate Dependence   \n",
       "\n",
       "                                                   review  rating  \\\n",
       "206461  \"It has no side effect, I take it in combinati...     9.0   \n",
       "95260   \"My son is halfway through his fourth week of ...     8.0   \n",
       "92703   \"I used to take another oral contraceptive, wh...     5.0   \n",
       "138000  \"This is my first time using any form of birth...     8.0   \n",
       "35696   \"Suboxone has completely turned my life around...     9.0   \n",
       "\n",
       "                     date  usefulCount  \n",
       "206461       May 20, 2012           27  \n",
       "95260      April 27, 2010          192  \n",
       "92703   December 14, 2009           17  \n",
       "138000   November 3, 2015           10  \n",
       "35696   November 27, 2016           37  "
      ]
     },
     "execution_count": 2,
     "metadata": {},
     "output_type": "execute_result"
    }
   ],
   "source": [
    "train_data = pd.read_csv('drugsComTrain_raw.tsv', sep='\\t', index_col=0)\n",
    "train_data.head()"
   ]
  },
  {
   "cell_type": "code",
   "execution_count": 6,
   "metadata": {},
   "outputs": [
    {
     "name": "stdout",
     "output_type": "stream",
     "text": [
      "train data size:  (161297, 6)\n"
     ]
    }
   ],
   "source": [
    "print('train data size: ', train_data.shape)"
   ]
  },
  {
   "cell_type": "code",
   "execution_count": 7,
   "metadata": {},
   "outputs": [
    {
     "name": "stdout",
     "output_type": "stream",
     "text": [
      "unique class of drug:  3436\n"
     ]
    },
    {
     "data": {
      "text/plain": [
       "(0, 2000)"
      ]
     },
     "execution_count": 7,
     "metadata": {},
     "output_type": "execute_result"
    },
    {
     "data": {
      "image/png": "[encoded data removed]",
      "text/plain": [
       "<Figure size 432x288 with 1 Axes>"
      ]
     },
     "metadata": {
      "needs_background": "light"
     },
     "output_type": "display_data"
    }
   ],
   "source": [
    "# 很粗略的看一下藥的分布情況，因為有點太多種了所以不是很清楚，\n",
    "# 但仍可以清楚看到有幾種藥物出現的特別多次\n",
    "print('unique class of drug: ', len(np.unique(train_data.drugName)))\n",
    "ax = sns.countplot(x=\"drugName\", data=train_data)\n",
    "ax.set_xticks([])\n",
    "ax.set_ylim(0,2000)"
   ]
  },
  {
   "cell_type": "code",
   "execution_count": 8,
   "metadata": {},
   "outputs": [
    {
     "name": "stdout",
     "output_type": "stream",
     "text": [
      "unique class of condition: 885\n"
     ]
    }
   ],
   "source": [
    "train_data.condition = train_data.condition.apply(lambda x: str(x))\n",
    "print('unique class of condition: {}'.format(len(np.unique(train_data.condition))))"
   ]
  },
  {
   "cell_type": "code",
   "execution_count": 9,
   "metadata": {},
   "outputs": [
    {
     "data": {
      "text/plain": [
       "(0, 6000)"
      ]
     },
     "execution_count": 9,
     "metadata": {},
     "output_type": "execute_result"
    },
    {
     "data": {
      "image/png": "[encoded data removed]",
      "text/plain": [
       "<Figure size 432x288 with 1 Axes>"
      ]
     },
     "metadata": {
      "needs_background": "light"
     },
     "output_type": "display_data"
    }
   ],
   "source": [
    "# Condition 分布不均的狀況更明顯\n",
    "ax = sns.countplot(x=\"condition\", data=train_data)\n",
    "ax.set_xticks([])\n",
    "ax.set_ylim(0,6000)"
   ]
  },
  {
   "cell_type": "code",
   "execution_count": 10,
   "metadata": {},
   "outputs": [
    {
     "data": {
      "image/png": "[encoded data removed]",
      "text/plain": [
       "<Figure size 432x288 with 1 Axes>"
      ]
     },
     "metadata": {
      "needs_background": "light"
     },
     "output_type": "display_data"
    }
   ],
   "source": [
    "# 評等以最高和最低的極端情形最多，中間值的分布還頗平均\n",
    "ax = sns.countplot(x=\"rating\", data=train_data)"
   ]
  },
  {
   "cell_type": "markdown",
   "metadata": {},
   "source": [
    "# Data Preprocessing\n",
    "### Remove Stopword & Punctuation"
   ]
  },
  {
   "cell_type": "code",
   "execution_count": 11,
   "metadata": {},
   "outputs": [],
   "source": [
    "import nltk\n",
    "import string\n",
    "from nltk.corpus import stopwords\n",
    "from nltk.tokenize import word_tokenize \n",
    "\n",
    "stop_words = set(stopwords.words('english')) | set(string.punctuation)"
   ]
  },
  {
   "cell_type": "code",
   "execution_count": 12,
   "metadata": {},
   "outputs": [],
   "source": [
    "tokens = []\n",
    "sentences = []\n",
    "for i, r in train_data.iterrows():\n",
    "    filtered = [w.lower() for w in word_tokenize(r.review) if w not in stop_words]\n",
    "    tokens.append(filtered)\n",
    "    sentences.append(\" \".join(filtered))"
   ]
  },
  {
   "cell_type": "markdown",
   "metadata": {},
   "source": [
    "### CountVectorizer"
   ]
  },
  {
   "cell_type": "code",
   "execution_count": 13,
   "metadata": {},
   "outputs": [
    {
     "name": "stdout",
     "output_type": "stream",
     "text": [
      "size of train_X: (161297, 49891), size of train_y: 161297\n"
     ]
    }
   ],
   "source": [
    "from sklearn.feature_extraction.text import CountVectorizer\n",
    "from sklearn.metrics import f1_score\n",
    "cv = CountVectorizer()\n",
    "train_X = cv.fit_transform(sentences)\n",
    "train_y = train_data['rating'].to_numpy()\n",
    "print('size of train_X: {}, size of train_y: {}'.format(train_X.shape, len(train_y)))"
   ]
  },
  {
   "cell_type": "code",
   "execution_count": 14,
   "metadata": {},
   "outputs": [
    {
     "name": "stdout",
     "output_type": "stream",
     "text": [
      "Accuracy on training set: 0.36130244207889795\n",
      "F1 score on training set: 0.22550524853176168\n"
     ]
    }
   ],
   "source": [
    "from sklearn.ensemble import RandomForestClassifier\n",
    "rfc = RandomForestClassifier(n_estimators=300, max_depth=3, random_state=0, class_weight=\"balanced\")\n",
    "rfc.fit(train_X, train_y)\n",
    "train_acc = rfc.score(train_X, train_y)\n",
    "train_y_hat = rfc.predict(train_X)\n",
    "train_f1 = f1_score(train_y, train_y_hat, average='macro')\n",
    "print('Accuracy on training set: {}'.format(train_acc))\n",
    "print('F1 score on training set: {}'.format(train_f1))"
   ]
  },
  {
   "cell_type": "markdown",
   "metadata": {},
   "source": [
    "### TfidfVectorizer"
   ]
  },
  {
   "cell_type": "code",
   "execution_count": 15,
   "metadata": {},
   "outputs": [
    {
     "name": "stdout",
     "output_type": "stream",
     "text": [
      "size of train_X: (161297, 24881), size of train_y: 161297\n"
     ]
    }
   ],
   "source": [
    "from sklearn.feature_extraction.text import TfidfVectorizer\n",
    "tfv = TfidfVectorizer(min_df=3)\n",
    "train_X = tfv.fit_transform(sentences)\n",
    "print('size of train_X: {}, size of train_y: {}'.format(train_X.shape, len(train_y)))"
   ]
  },
  {
   "cell_type": "code",
   "execution_count": 16,
   "metadata": {},
   "outputs": [
    {
     "name": "stdout",
     "output_type": "stream",
     "text": [
      "Accuracy on training set: 0.3535279639422928\n",
      "F1 score on training set: 0.22518709683738916\n"
     ]
    }
   ],
   "source": [
    "rfc = RandomForestClassifier(n_estimators=300, max_depth=3, random_state=0, class_weight=\"balanced\")\n",
    "rfc.fit(train_X, train_y)\n",
    "train_acc = rfc.score(train_X, train_y)\n",
    "train_y_hat = rfc.predict(train_X)\n",
    "train_f1 = f1_score(train_y, train_y_hat, average='macro')\n",
    "print('Accuracy on training set: {}'.format(train_acc))\n",
    "print('F1 score on training set: {}'.format(train_f1))"
   ]
  },
  {
   "cell_type": "markdown",
   "metadata": {},
   "source": [
    "### Word2Vec\n",
    "這邊想用 gensim 來 train 自己的 word vector，讓文字向量之間能有一些語意上的關聯性"
   ]
  },
  {
   "cell_type": "code",
   "execution_count": 17,
   "metadata": {},
   "outputs": [],
   "source": [
    "from gensim.models import word2vec\n",
    "model = word2vec.Word2Vec(tokens, size=100, window=10)\n",
    "model.save('word.model')"
   ]
  },
  {
   "cell_type": "code",
   "execution_count": 27,
   "metadata": {},
   "outputs": [],
   "source": [
    "# model = word2vec.Word2Vec.load('word.model')"
   ]
  },
  {
   "cell_type": "code",
   "execution_count": 18,
   "metadata": {},
   "outputs": [
    {
     "data": {
      "text/plain": [
       "(161297, 100)"
      ]
     },
     "execution_count": 18,
     "metadata": {},
     "output_type": "execute_result"
    }
   ],
   "source": [
    "def get_sentance_feature(model, sentence):\n",
    "    '''\n",
    "    對於一句話而言，把一句話中的所有字所對應的向量平均起來，得到整句話的向量\n",
    "    '''\n",
    "    featureVec = np.zeros(100, dtype=\"float32\")\n",
    "    nwords = 0\n",
    "    index2word_set = set(model.wv.index2word)\n",
    "\n",
    "    for word in sentence:\n",
    "        if word in index2word_set:\n",
    "            nwords = nwords + 1\n",
    "            featureVec = np.add(featureVec, model.wv[word])\n",
    "\n",
    "    featureVec = np.divide(featureVec, nwords)\n",
    "    return featureVec\n",
    "\n",
    "# 把原始的句子轉為句子向量\n",
    "sent_X = []\n",
    "for i in tokens:\n",
    "    sent_feature = get_sentance_feature(model, i)\n",
    "    sent_feature[np.isnan(sent_feature)] = 0\n",
    "    sent_X.append(sent_feature)\n",
    "sent_X = np.array(sent_X)\n",
    "sent_X.shape"
   ]
  },
  {
   "cell_type": "code",
   "execution_count": 19,
   "metadata": {},
   "outputs": [
    {
     "name": "stderr",
     "output_type": "stream",
     "text": [
      "C:\\Users\\Yao\\AppData\\Local\\Continuum\\anaconda3\\lib\\site-packages\\sklearn\\neural_network\\multilayer_perceptron.py:566: ConvergenceWarning: Stochastic Optimizer: Maximum iterations (300) reached and the optimization hasn't converged yet.\n",
      "  % self.max_iter, ConvergenceWarning)\n"
     ]
    },
    {
     "name": "stdout",
     "output_type": "stream",
     "text": [
      "Accuracy on training set: 0.44924580122382934\n",
      "F1 score on training set: 0.23124694673465437\n"
     ]
    }
   ],
   "source": [
    "from sklearn.neural_network import MLPClassifier\n",
    "mlp = MLPClassifier(random_state=0, max_iter=300)\n",
    "mlp.fit(sent_X, train_y)\n",
    "train_acc = mlp.score(sent_X, train_y)\n",
    "train_y_hat = mlp.predict(sent_X)\n",
    "train_f1 = f1_score(train_y, train_y_hat, average='macro')\n",
    "print('Accuracy on training set: {}'.format(train_acc))\n",
    "print('F1 score on training set: {}'.format(train_f1))"
   ]
  },
  {
   "cell_type": "markdown",
   "metadata": {},
   "source": [
    "### Add more features\n",
    "單純使用 word2vec 好像沒有得到非常顯著的提升，因此我把 usefulCount 這個特徵加進來，並且使用兩層的 MLP 來訓練看看，發現結果提升許多"
   ]
  },
  {
   "cell_type": "code",
   "execution_count": 24,
   "metadata": {},
   "outputs": [
    {
     "data": {
      "text/plain": [
       "MLPClassifier(activation='relu', alpha=0.0001, batch_size='auto', beta_1=0.9,\n",
       "              beta_2=0.999, early_stopping=False, epsilon=1e-08,\n",
       "              hidden_layer_sizes=(256, 100), learning_rate='constant',\n",
       "              learning_rate_init=0.001, max_iter=1000, momentum=0.9,\n",
       "              n_iter_no_change=10, nesterovs_momentum=True, power_t=0.5,\n",
       "              random_state=0, shuffle=True, solver='adam', tol=0.0001,\n",
       "              validation_fraction=0.1, verbose=False, warm_start=False)"
      ]
     },
     "execution_count": 24,
     "metadata": {},
     "output_type": "execute_result"
    }
   ],
   "source": [
    "# 訓練 MLP 需要花點時間，我把訓練完的結果存起來，訓練本身註解掉\n",
    "X_train = np.concatenate((sent_X, train_data.usefulCount.values.reshape((-1, 1))), axis=-1)\n",
    "mlp = MLPClassifier(hidden_layer_sizes=(256,100), random_state=0, max_iter=1000)\n",
    "mlp.fit(X_train, train_y)"
   ]
  },
  {
   "cell_type": "code",
   "execution_count": 20,
   "metadata": {},
   "outputs": [],
   "source": [
    "import pickle\n",
    "with open('mlp.pickle', 'rb') as f:\n",
    "    mlp = pickle.load(f)"
   ]
  },
  {
   "cell_type": "code",
   "execution_count": 25,
   "metadata": {},
   "outputs": [
    {
     "name": "stdout",
     "output_type": "stream",
     "text": [
      "Accuracy on training set: 0.6757782227815768\n",
      "F1 score on training set: 0.6145623986940976\n"
     ]
    }
   ],
   "source": [
    "train_acc = mlp.score(X_train, train_y)\n",
    "train_y_hat = mlp.predict(X_train)\n",
    "train_f1 = f1_score(train_y, train_y_hat, average='macro')\n",
    "print('Accuracy on training set: {}'.format(train_acc))\n",
    "print('F1 score on training set: {}'.format(train_f1))"
   ]
  },
  {
   "cell_type": "code",
   "execution_count": 26,
   "metadata": {},
   "outputs": [],
   "source": [
    "# 儲存 MLP 模型，註解掉避免被覆寫\n",
    "# import pickle\n",
    "# with open('mlp.pickle', 'wb') as f:\n",
    "#     pickle.dump(mlp, f)"
   ]
  },
  {
   "cell_type": "markdown",
   "metadata": {},
   "source": [
    "### Apply on Testing Set"
   ]
  },
  {
   "cell_type": "code",
   "execution_count": 28,
   "metadata": {},
   "outputs": [
    {
     "data": {
      "text/html": [
       "<div>\n",
       "<style scoped>\n",
       "    .dataframe tbody tr th:only-of-type {\n",
       "        vertical-align: middle;\n",
       "    }\n",
       "\n",
       "    .dataframe tbody tr th {\n",
       "        vertical-align: top;\n",
       "    }\n",
       "\n",
       "    .dataframe thead th {\n",
       "        text-align: right;\n",
       "    }\n",
       "</style>\n",
       "<table border=\"1\" class=\"dataframe\">\n",
       "  <thead>\n",
       "    <tr style=\"text-align: right;\">\n",
       "      <th></th>\n",
       "      <th>drugName</th>\n",
       "      <th>condition</th>\n",
       "      <th>review</th>\n",
       "      <th>rating</th>\n",
       "      <th>date</th>\n",
       "      <th>usefulCount</th>\n",
       "    </tr>\n",
       "  </thead>\n",
       "  <tbody>\n",
       "    <tr>\n",
       "      <td>163740</td>\n",
       "      <td>Mirtazapine</td>\n",
       "      <td>Depression</td>\n",
       "      <td>\"I&amp;#039;ve tried a few antidepressants over th...</td>\n",
       "      <td>10.0</td>\n",
       "      <td>February 28, 2012</td>\n",
       "      <td>22</td>\n",
       "    </tr>\n",
       "    <tr>\n",
       "      <td>206473</td>\n",
       "      <td>Mesalamine</td>\n",
       "      <td>Crohn's Disease, Maintenance</td>\n",
       "      <td>\"My son has Crohn&amp;#039;s disease and has done ...</td>\n",
       "      <td>8.0</td>\n",
       "      <td>May 17, 2009</td>\n",
       "      <td>17</td>\n",
       "    </tr>\n",
       "    <tr>\n",
       "      <td>159672</td>\n",
       "      <td>Bactrim</td>\n",
       "      <td>Urinary Tract Infection</td>\n",
       "      <td>\"Quick reduction of symptoms\"</td>\n",
       "      <td>9.0</td>\n",
       "      <td>September 29, 2017</td>\n",
       "      <td>3</td>\n",
       "    </tr>\n",
       "    <tr>\n",
       "      <td>39293</td>\n",
       "      <td>Contrave</td>\n",
       "      <td>Weight Loss</td>\n",
       "      <td>\"Contrave combines drugs that were used for al...</td>\n",
       "      <td>9.0</td>\n",
       "      <td>March 5, 2017</td>\n",
       "      <td>35</td>\n",
       "    </tr>\n",
       "    <tr>\n",
       "      <td>97768</td>\n",
       "      <td>Cyclafem 1 / 35</td>\n",
       "      <td>Birth Control</td>\n",
       "      <td>\"I have been on this birth control for one cyc...</td>\n",
       "      <td>9.0</td>\n",
       "      <td>October 22, 2015</td>\n",
       "      <td>4</td>\n",
       "    </tr>\n",
       "  </tbody>\n",
       "</table>\n",
       "</div>"
      ],
      "text/plain": [
       "               drugName                     condition  \\\n",
       "163740      Mirtazapine                    Depression   \n",
       "206473       Mesalamine  Crohn's Disease, Maintenance   \n",
       "159672          Bactrim       Urinary Tract Infection   \n",
       "39293          Contrave                   Weight Loss   \n",
       "97768   Cyclafem 1 / 35                 Birth Control   \n",
       "\n",
       "                                                   review  rating  \\\n",
       "163740  \"I&#039;ve tried a few antidepressants over th...    10.0   \n",
       "206473  \"My son has Crohn&#039;s disease and has done ...     8.0   \n",
       "159672                      \"Quick reduction of symptoms\"     9.0   \n",
       "39293   \"Contrave combines drugs that were used for al...     9.0   \n",
       "97768   \"I have been on this birth control for one cyc...     9.0   \n",
       "\n",
       "                      date  usefulCount  \n",
       "163740   February 28, 2012           22  \n",
       "206473        May 17, 2009           17  \n",
       "159672  September 29, 2017            3  \n",
       "39293        March 5, 2017           35  \n",
       "97768     October 22, 2015            4  "
      ]
     },
     "execution_count": 28,
     "metadata": {},
     "output_type": "execute_result"
    }
   ],
   "source": [
    "test_data = pd.read_csv('drugsComTest_raw.tsv', sep='\\t', index_col=0)\n",
    "test_data.head()"
   ]
  },
  {
   "cell_type": "code",
   "execution_count": 29,
   "metadata": {},
   "outputs": [],
   "source": [
    "test_tokens = []\n",
    "test_sentences = []\n",
    "for i, r in test_data.iterrows():\n",
    "    filtered = [w.lower() for w in word_tokenize(r.review) if w not in stop_words]\n",
    "    test_tokens.append(filtered)\n",
    "    test_sentences.append(\" \".join(filtered))"
   ]
  },
  {
   "cell_type": "code",
   "execution_count": 30,
   "metadata": {},
   "outputs": [
    {
     "name": "stdout",
     "output_type": "stream",
     "text": [
      "size of test_X: (53766, 6), size of test_y: 53766\n"
     ]
    }
   ],
   "source": [
    "test_y = test_data['rating'].to_numpy()\n",
    "print('size of test_X: {}, size of test_y: {}'.format(test_data.shape, len(test_y)))"
   ]
  },
  {
   "cell_type": "code",
   "execution_count": 31,
   "metadata": {},
   "outputs": [
    {
     "data": {
      "text/plain": [
       "(53766, 100)"
      ]
     },
     "execution_count": 31,
     "metadata": {},
     "output_type": "execute_result"
    }
   ],
   "source": [
    "test_X = []\n",
    "for i in test_tokens:\n",
    "    sent_feature = get_sentance_feature(model, i)\n",
    "    sent_feature[np.isnan(sent_feature)] = 0\n",
    "    test_X.append(sent_feature)\n",
    "test_X = np.array(test_X)\n",
    "test_X.shape"
   ]
  },
  {
   "cell_type": "code",
   "execution_count": 32,
   "metadata": {},
   "outputs": [],
   "source": [
    "test_X = np.concatenate((test_X, test_data.usefulCount.values.reshape((-1, 1))), axis=-1)"
   ]
  },
  {
   "cell_type": "code",
   "execution_count": 35,
   "metadata": {},
   "outputs": [
    {
     "name": "stdout",
     "output_type": "stream",
     "text": [
      "Accuracy on training set: 0.4801919428635197\n",
      "F1 score on training set: 0.3622647381065494\n"
     ]
    }
   ],
   "source": [
    "test_acc = mlp.score(test_X, test_y)\n",
    "test_y_hat = mlp.predict(test_X)\n",
    "test_f1 = f1_score(test_y, test_y_hat, average='macro')\n",
    "print('Accuracy on training set: {}'.format(test_acc))\n",
    "print('F1 score on training set: {}'.format(test_f1))"
   ]
  }
 ],
 "metadata": {
  "kernelspec": {
   "display_name": "Python 3",
   "language": "python",
   "name": "python3"
  },
  "language_info": {
   "codemirror_mode": {
    "name": "ipython",
    "version": 3
   },
   "file_extension": ".py",
   "mimetype": "text/x-python",
   "name": "python",
   "nbconvert_exporter": "python",
   "pygments_lexer": "ipython3",
   "version": "3.7.4"
  }
 },
 "nbformat": 4,
 "nbformat_minor": 2
}
